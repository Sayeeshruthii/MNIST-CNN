{
  "nbformat": 4,
  "nbformat_minor": 0,
  "metadata": {
    "colab": {
      "name": "ActivationFunctions.ipynb",
      "provenance": [],
      "authorship_tag": "ABX9TyMlnC4UPBoMqMfeqHsUV4Ux",
      "include_colab_link": true
    },
    "kernelspec": {
      "name": "python3",
      "display_name": "Python 3"
    }
  },
  "cells": [
    {
      "cell_type": "markdown",
      "metadata": {
        "id": "view-in-github",
        "colab_type": "text"
      },
      "source": [
        "<a href=\"https://colab.research.google.com/github/sayeeshruthiwindsor/MNIST-CNN/blob/main/ActivationFunctions.ipynb\" target=\"_parent\"><img src=\"https://colab.research.google.com/assets/colab-badge.svg\" alt=\"Open In Colab\"/></a>"
      ]
    },
    {
      "cell_type": "code",
      "metadata": {
        "id": "hoJ7IwAxG_L7"
      },
      "source": [
        "%matplotlib inline\r\n",
        "import matplotlib.pyplot as plt\r\n",
        "import keras\r\n",
        "from keras.datasets import mnist\r\n",
        "from keras.models import Sequential\r\n",
        "from keras.layers import Dense, Dropout\r\n",
        "from keras.optimizers import RMSprop\r\n",
        "from keras.layers.advanced_activations import LeakyReLU"
      ],
      "execution_count": 3,
      "outputs": []
    },
    {
      "cell_type": "markdown",
      "metadata": {
        "id": "vJ2M0Q7EHGHb"
      },
      "source": [
        "Prepare the data\r\n"
      ]
    },
    {
      "cell_type": "code",
      "metadata": {
        "colab": {
          "base_uri": "https://localhost:8080/"
        },
        "id": "MOsPXlyVHO7u",
        "outputId": "ec8b1c6d-350b-4eca-f05b-7da65aef5ed8"
      },
      "source": [
        "(x_train, y_train), (x_test, y_test) = mnist.load_data()\r\n",
        "\r\n",
        "num_classes = 10\r\n",
        "x_train = x_train.reshape(60000, 784)\r\n",
        "x_test = x_test.reshape(10000, 784)\r\n",
        "x_train = x_train.astype('float32')\r\n",
        "x_test = x_test.astype('float32')\r\n",
        "x_train /= 255\r\n",
        "x_test /= 255\r\n",
        "y_train = keras.utils.to_categorical(y_train, num_classes)\r\n",
        "y_test = keras.utils.to_categorical(y_test, num_classes)\r\n",
        "\r\n",
        "\r\n",
        "print ('Train size:', x_train.shape[0])\r\n",
        "print ('Test size:', x_test.shape[0])"
      ],
      "execution_count": 16,
      "outputs": [
        {
          "output_type": "stream",
          "text": [
            "Train size: 60000\n",
            "Test size: 10000\n"
          ],
          "name": "stdout"
        }
      ]
    },
    {
      "cell_type": "markdown",
      "metadata": {
        "id": "jVz8W69-HQTi"
      },
      "source": [
        "Model\r\n",
        "784 input,512 hidden layers, 10 nodes"
      ]
    },
    {
      "cell_type": "code",
      "metadata": {
        "colab": {
          "base_uri": "https://localhost:8080/"
        },
        "id": "2BY9Dn6MH2oG",
        "outputId": "c12bc23d-053b-4ed6-f40d-cd3ea8a9faee"
      },
      "source": [
        "model = Sequential()\r\n",
        "model.add(Dense(512,activation='relu',input_shape= (784,)))\r\n",
        "model.add(Dense(10,activation='softmax'))\r\n",
        "model.summary()"
      ],
      "execution_count": 17,
      "outputs": [
        {
          "output_type": "stream",
          "text": [
            "Model: \"sequential_2\"\n",
            "_________________________________________________________________\n",
            "Layer (type)                 Output Shape              Param #   \n",
            "=================================================================\n",
            "dense_4 (Dense)              (None, 512)               401920    \n",
            "_________________________________________________________________\n",
            "dense_5 (Dense)              (None, 10)                5130      \n",
            "=================================================================\n",
            "Total params: 407,050\n",
            "Trainable params: 407,050\n",
            "Non-trainable params: 0\n",
            "_________________________________________________________________\n"
          ],
          "name": "stdout"
        }
      ]
    },
    {
      "cell_type": "markdown",
      "metadata": {
        "id": "kom4ZqExIo0w"
      },
      "source": [
        "train with 5 epoch\r\n"
      ]
    },
    {
      "cell_type": "code",
      "metadata": {
        "colab": {
          "base_uri": "https://localhost:8080/",
          "height": 514
        },
        "id": "soVy6i1-IswO",
        "outputId": "f9add800-51a4-4ffd-c6b4-767003bd69bf"
      },
      "source": [
        "batch_size = 128\r\n",
        "epochs = 5\r\n",
        "\r\n",
        "model.compile(loss='categorical_crossentropy',\r\n",
        "              optimizer=RMSprop(),\r\n",
        "              metrics=['accuracy'])\r\n",
        "    \r\n",
        "history = model.fit(x_train, y_train,\r\n",
        "                    batch_size=batch_size,\r\n",
        "                    epochs=epochs,\r\n",
        "                    verbose=1,\r\n",
        "                    validation_data=(x_test, y_test))\r\n",
        "\r\n",
        "score = model.evaluate(x_test, y_test, verbose=100)\r\n",
        "\r\n",
        "print\r\n",
        "print ('Test loss:', round(score[0], 3))\r\n",
        "print ('Test accuracy:', round(score[1], 3))\r\n",
        "plt.plot(history.history['loss'])\r\n",
        "plt.plot(history.history['val_loss'])\r\n",
        "plt.title('model loss')\r\n",
        "plt.ylabel('loss')\r\n",
        "plt.xlabel('epoch')\r\n",
        "plt.legend(['train', 'test'], loc='upper left')"
      ],
      "execution_count": 18,
      "outputs": [
        {
          "output_type": "stream",
          "text": [
            "Epoch 1/5\n",
            "469/469 [==============================] - 6s 11ms/step - loss: 0.4254 - accuracy: 0.8763 - val_loss: 0.1210 - val_accuracy: 0.9626\n",
            "Epoch 2/5\n",
            "469/469 [==============================] - 5s 11ms/step - loss: 0.1069 - accuracy: 0.9695 - val_loss: 0.0873 - val_accuracy: 0.9743\n",
            "Epoch 3/5\n",
            "469/469 [==============================] - 5s 11ms/step - loss: 0.0688 - accuracy: 0.9795 - val_loss: 0.0748 - val_accuracy: 0.9759\n",
            "Epoch 4/5\n",
            "469/469 [==============================] - 5s 11ms/step - loss: 0.0486 - accuracy: 0.9856 - val_loss: 0.0829 - val_accuracy: 0.9755\n",
            "Epoch 5/5\n",
            "469/469 [==============================] - 5s 11ms/step - loss: 0.0346 - accuracy: 0.9898 - val_loss: 0.0690 - val_accuracy: 0.9793\n",
            "Test loss: 0.069\n",
            "Test accuracy: 0.979\n"
          ],
          "name": "stdout"
        },
        {
          "output_type": "execute_result",
          "data": {
            "text/plain": [
              "<matplotlib.legend.Legend at 0x7fdb340e72e8>"
            ]
          },
          "metadata": {
            "tags": []
          },
          "execution_count": 18
        },
        {
          "output_type": "display_data",
          "data": {
            "image/png": "[encoded data removed]",
            "text/plain": [
              "<Figure size 432x288 with 1 Axes>"
            ]
          },
          "metadata": {
            "tags": [],
            "needs_background": "light"
          }
        }
      ]
    },
    {
      "cell_type": "markdown",
      "metadata": {
        "id": "c9Qo0W_3LORm"
      },
      "source": [
        "All activation functions "
      ]
    },
    {
      "cell_type": "code",
      "metadata": {
        "colab": {
          "base_uri": "https://localhost:8080/",
          "height": 984
        },
        "id": "2osZxRHxLR8P",
        "outputId": "596b328e-5779-473a-bbf7-94411e9bf65f"
      },
      "source": [
        "epochs = 5\r\n",
        "\r\n",
        "for activation in [None, 'sigmoid', 'tanh', 'relu']:\r\n",
        "    model = Sequential()\r\n",
        "    model.add(Dense(512, activation=activation, input_shape=(784,)))\r\n",
        "    model.add(Dense(num_classes, activation='softmax'))\r\n",
        "    model.compile(loss='categorical_crossentropy',\r\n",
        "              optimizer=RMSprop(),\r\n",
        "              metrics=['accuracy'])\r\n",
        "    history = model.fit(x_train, y_train,\r\n",
        "                    batch_size=batch_size,\r\n",
        "                    epochs=epochs,\r\n",
        "                    verbose=1,\r\n",
        "                    validation_data=(x_test, y_test))\r\n",
        "    \r\n",
        "    plt.plot(history.history['val_accuracy'])\r\n",
        "    \r\n",
        "plt.title('model loss')\r\n",
        "plt.ylabel('loss')\r\n",
        "plt.xlabel('epoch')\r\n",
        "plt.legend(['None', 'sigmoid', 'tanh', 'relu'], loc='upper left')"
      ],
      "execution_count": 22,
      "outputs": [
        {
          "output_type": "stream",
          "text": [
            "Epoch 1/5\n",
            "469/469 [==============================] - 5s 11ms/step - loss: 0.5221 - accuracy: 0.8421 - val_loss: 0.3281 - val_accuracy: 0.9065\n",
            "Epoch 2/5\n",
            "469/469 [==============================] - 5s 10ms/step - loss: 0.3047 - accuracy: 0.9147 - val_loss: 0.2922 - val_accuracy: 0.9173\n",
            "Epoch 3/5\n",
            "469/469 [==============================] - 5s 10ms/step - loss: 0.2882 - accuracy: 0.9183 - val_loss: 0.2911 - val_accuracy: 0.9174\n",
            "Epoch 4/5\n",
            "469/469 [==============================] - 5s 10ms/step - loss: 0.2900 - accuracy: 0.9204 - val_loss: 0.3092 - val_accuracy: 0.9123\n",
            "Epoch 5/5\n",
            "469/469 [==============================] - 5s 10ms/step - loss: 0.2766 - accuracy: 0.9239 - val_loss: 0.2919 - val_accuracy: 0.9198\n",
            "Epoch 1/5\n",
            "469/469 [==============================] - 5s 11ms/step - loss: 0.6756 - accuracy: 0.8246 - val_loss: 0.2582 - val_accuracy: 0.9245\n",
            "Epoch 2/5\n",
            "469/469 [==============================] - 5s 10ms/step - loss: 0.2464 - accuracy: 0.9292 - val_loss: 0.1955 - val_accuracy: 0.9434\n",
            "Epoch 3/5\n",
            "469/469 [==============================] - 5s 10ms/step - loss: 0.1853 - accuracy: 0.9466 - val_loss: 0.1575 - val_accuracy: 0.9536\n",
            "Epoch 4/5\n",
            "469/469 [==============================] - 5s 10ms/step - loss: 0.1403 - accuracy: 0.9584 - val_loss: 0.1285 - val_accuracy: 0.9613\n",
            "Epoch 5/5\n",
            "469/469 [==============================] - 5s 10ms/step - loss: 0.1153 - accuracy: 0.9666 - val_loss: 0.1104 - val_accuracy: 0.9661\n",
            "Epoch 1/5\n",
            "469/469 [==============================] - 5s 10ms/step - loss: 0.4826 - accuracy: 0.8538 - val_loss: 0.2197 - val_accuracy: 0.9351\n",
            "Epoch 2/5\n",
            "469/469 [==============================] - 5s 10ms/step - loss: 0.1903 - accuracy: 0.9440 - val_loss: 0.1537 - val_accuracy: 0.9538\n",
            "Epoch 3/5\n",
            "469/469 [==============================] - 5s 10ms/step - loss: 0.1248 - accuracy: 0.9633 - val_loss: 0.1167 - val_accuracy: 0.9642\n",
            "Epoch 4/5\n",
            "469/469 [==============================] - 5s 11ms/step - loss: 0.0842 - accuracy: 0.9753 - val_loss: 0.0923 - val_accuracy: 0.9715\n",
            "Epoch 5/5\n",
            "469/469 [==============================] - 5s 10ms/step - loss: 0.0678 - accuracy: 0.9795 - val_loss: 0.0787 - val_accuracy: 0.9764\n",
            "Epoch 1/5\n",
            "469/469 [==============================] - 5s 11ms/step - loss: 0.4375 - accuracy: 0.8719 - val_loss: 0.1250 - val_accuracy: 0.9627\n",
            "Epoch 2/5\n",
            "469/469 [==============================] - 5s 10ms/step - loss: 0.1123 - accuracy: 0.9678 - val_loss: 0.0882 - val_accuracy: 0.9735\n",
            "Epoch 3/5\n",
            "469/469 [==============================] - 5s 10ms/step - loss: 0.0693 - accuracy: 0.9786 - val_loss: 0.0751 - val_accuracy: 0.9774\n",
            "Epoch 4/5\n",
            "469/469 [==============================] - 5s 10ms/step - loss: 0.0505 - accuracy: 0.9851 - val_loss: 0.0765 - val_accuracy: 0.9758\n",
            "Epoch 5/5\n",
            "469/469 [==============================] - 5s 10ms/step - loss: 0.0363 - accuracy: 0.9891 - val_loss: 0.0648 - val_accuracy: 0.9807\n"
          ],
          "name": "stdout"
        },
        {
          "output_type": "execute_result",
          "data": {
            "text/plain": [
              "<matplotlib.legend.Legend at 0x7fdb340aaf60>"
            ]
          },
          "metadata": {
            "tags": []
          },
          "execution_count": 22
        },
        {
          "output_type": "display_data",
          "data": {
            "image/png": "[encoded data removed]",
            "text/plain": [
              "<Figure size 432x288 with 1 Axes>"
            ]
          },
          "metadata": {
            "tags": [],
            "needs_background": "light"
          }
        }
      ]
    }
  ]
}